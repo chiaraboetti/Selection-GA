{
 "cells": [
  {
   "cell_type": "code",
   "execution_count": 1,
   "metadata": {},
   "outputs": [],
   "source": [
    "import numpy as np"
   ]
  },
  {
   "cell_type": "markdown",
   "metadata": {},
   "source": [
    "## Initial setting"
   ]
  },
  {
   "source": [
    "We create our two initial NumPy arrays in which we store our random sequence of 0 and 1 and the corresponding fitness.\n",
    "We use numpy array because they are relatively small in size with respect to lists and we have homogeneous data.\n",
    "In our implementation, with random fitness values, we generate (n_pop * n_bits + 1) random values to create the arrays.\n",
    "\n",
    "To create a two-dimensional NumPy array, we use the method _coloumn_stack_ (it transform our two one-dimensional arrays into a two-dimensional one using a loop)."
   ],
   "cell_type": "markdown",
   "metadata": {}
  },
  {
   "cell_type": "code",
   "execution_count": 2,
   "metadata": {},
   "outputs": [],
   "source": [
    "variability = 255\n",
    "n_pop = 10\n",
    "fitness = []\n",
    "population = []\n",
    "for i in range(n_pop):\n",
    "    fitness.append(np.random.randint(0,1000))\n",
    "    population.append([int(x) for x in '{:08b}'.format(np.random.randint(0,variability))])\n",
    "\n",
    "fitness = np.array(fitness)\n",
    "population = np.array(population)\n",
    "\n",
    "# pop_array = np.column_stack([population, fitness])\n",
    "# pop_array"
   ]
  },
  {
   "source": [
    "## Fitness proportionate selection (or Roulette wheel selection)"
   ],
   "cell_type": "markdown",
   "metadata": {}
  },
  {
   "cell_type": "code",
   "execution_count": 13,
   "metadata": {},
   "outputs": [],
   "source": [
    "def fit_prop_selection(pop, fitness):\n",
    "    n_pop = len(pop)\n",
    "\n",
    "    prob_fitness = fitness/sum(fitness)\n",
    "\n",
    "    # Generate probability intervals for each individual\n",
    "    probs = [sum(prob_fitness[:i+1]) for i in range(n_pop)]\n",
    "\n",
    "    # Draw new population\n",
    "    mating_pool = []\n",
    "    for n in range(n_pop):\n",
    "        r = np.random.uniform(0, 1)\n",
    "        for (i, individual) in enumerate(pop):\n",
    "            if probs[i] > r:\n",
    "                mating_pool.append(individual)\n",
    "                break\n",
    "\n",
    "    return np.vstack(mating_pool)\n"
   ]
  },
  {
   "cell_type": "code",
   "execution_count": 14,
   "metadata": {},
   "outputs": [
    {
     "output_type": "execute_result",
     "data": {
      "text/plain": [
       "array([[1, 1, 1, 1, 0, 0, 0, 1],\n",
       "       [1, 0, 1, 0, 1, 1, 0, 0],\n",
       "       [0, 0, 1, 0, 1, 1, 1, 1],\n",
       "       [0, 0, 1, 0, 1, 1, 1, 1],\n",
       "       [1, 1, 0, 0, 1, 0, 0, 1],\n",
       "       [0, 1, 1, 0, 0, 0, 0, 1],\n",
       "       [1, 0, 0, 0, 0, 1, 0, 0],\n",
       "       [1, 0, 1, 0, 1, 1, 1, 0],\n",
       "       [1, 1, 0, 0, 1, 0, 0, 1],\n",
       "       [1, 0, 0, 0, 0, 1, 0, 0]])"
      ]
     },
     "metadata": {},
     "execution_count": 14
    }
   ],
   "source": [
    "fit_prop_selection(population, fitness)"
   ]
  },
  {
   "cell_type": "code",
   "execution_count": 15,
   "metadata": {},
   "outputs": [
    {
     "output_type": "stream",
     "name": "stdout",
     "text": [
      "337 µs ± 94.9 µs per loop (mean ± std. dev. of 7 runs, 1000 loops each)\n"
     ]
    }
   ],
   "source": [
    "timeit fit_prop_selection(population, fitness)"
   ]
  },
  {
   "cell_type": "code",
   "execution_count": 16,
   "metadata": {},
   "outputs": [
    {
     "output_type": "stream",
     "name": "stdout",
     "text": [
      "64.1 µs ± 8.64 µs per loop (mean ± std. dev. of 7 runs, 10000 loops each)\n"
     ]
    }
   ],
   "source": [
    "timeit  [f/sum(fitness) for f in fitness] # 4 times slower"
   ]
  },
  {
   "cell_type": "code",
   "execution_count": 17,
   "metadata": {},
   "outputs": [
    {
     "output_type": "stream",
     "name": "stdout",
     "text": [
      "14.4 µs ± 1.03 µs per loop (mean ± std. dev. of 7 runs, 100000 loops each)\n"
     ]
    }
   ],
   "source": [
    "timeit fitness/sum(fitness) "
   ]
  },
  {
   "source": [
    "## Linear Rank selection"
   ],
   "cell_type": "markdown",
   "metadata": {}
  },
  {
   "cell_type": "code",
   "execution_count": 18,
   "metadata": {},
   "outputs": [],
   "source": [
    "def lin_rank_selection(pop, fitness):\n",
    "    n = len(pop)\n",
    "    \n",
    "    sorted_ind = sorted(range(n), key=lambda k: fitness[k])\n",
    "    fitness_rank = [2*pos/(n*(n+1)) for pos in range(1, n+1)]\n",
    "\n",
    "    pop = pop[sorted_ind]\n",
    "\n",
    "    # Draw new population\n",
    "    mating_pool = []\n",
    "    for j in range(n):\n",
    "        s = 0\n",
    "        r = np.random.uniform(0, 1)\n",
    "        for (i, individual) in enumerate(pop):\n",
    "            s += fitness_rank[i]\n",
    "            if  s > r:\n",
    "                mating_pool.append(individual)\n",
    "                break\n",
    "\n",
    "    return np.vstack(mating_pool)"
   ]
  },
  {
   "cell_type": "code",
   "execution_count": 19,
   "metadata": {},
   "outputs": [
    {
     "output_type": "execute_result",
     "data": {
      "text/plain": [
       "array([[0, 1, 1, 0, 0, 0, 0, 1],\n",
       "       [1, 0, 0, 0, 0, 1, 0, 0],\n",
       "       [1, 0, 0, 0, 0, 1, 0, 0],\n",
       "       [0, 0, 1, 0, 1, 1, 1, 1],\n",
       "       [0, 0, 1, 0, 1, 1, 1, 1],\n",
       "       [0, 0, 1, 0, 1, 1, 1, 1],\n",
       "       [1, 1, 1, 0, 0, 1, 1, 1],\n",
       "       [1, 1, 0, 0, 1, 0, 0, 1],\n",
       "       [0, 0, 1, 0, 1, 1, 1, 1],\n",
       "       [1, 1, 1, 0, 0, 1, 1, 1]])"
      ]
     },
     "metadata": {},
     "execution_count": 19
    }
   ],
   "source": [
    "lin_rank_selection(population, fitness)"
   ]
  },
  {
   "cell_type": "code",
   "execution_count": 20,
   "metadata": {},
   "outputs": [
    {
     "output_type": "stream",
     "name": "stdout",
     "text": [
      "342 µs ± 97.4 µs per loop (mean ± std. dev. of 7 runs, 1000 loops each)\n"
     ]
    }
   ],
   "source": [
    "timeit lin_rank_selection(population, fitness)"
   ]
  },
  {
   "cell_type": "markdown",
   "metadata": {},
   "source": [
    "## Tournament selection"
   ]
  },
  {
   "cell_type": "code",
   "execution_count": 21,
   "metadata": {},
   "outputs": [],
   "source": [
    "def tournament_selection(pop, fitness, k=3):\n",
    "    n_pop = len(pop)\n",
    "    mating_pool = []\n",
    "\n",
    "    for i in range(n_pop):\n",
    "        best = np.random.randint(n_pop)\n",
    "\n",
    "        for j in range(k):\n",
    "            selected = np.random.randint(n_pop)\n",
    "            if fitness[selected] > fitness[best]:\n",
    "                    best = selected\n",
    "        \n",
    "        mating_pool.append(pop[best])\n",
    "\n",
    "    return np.vstack(mating_pool)\n"
   ]
  },
  {
   "cell_type": "code",
   "execution_count": 22,
   "metadata": {},
   "outputs": [
    {
     "output_type": "execute_result",
     "data": {
      "text/plain": [
       "array([[0, 0, 1, 0, 1, 1, 1, 1],\n",
       "       [0, 0, 1, 0, 1, 1, 1, 1],\n",
       "       [1, 0, 0, 0, 0, 1, 0, 0],\n",
       "       [1, 1, 1, 0, 0, 1, 1, 1],\n",
       "       [1, 1, 1, 0, 0, 1, 1, 1],\n",
       "       [0, 0, 1, 0, 1, 1, 1, 1],\n",
       "       [1, 0, 0, 0, 0, 1, 0, 0],\n",
       "       [0, 0, 1, 0, 1, 1, 1, 1],\n",
       "       [1, 1, 1, 0, 0, 1, 1, 1],\n",
       "       [1, 0, 1, 0, 1, 1, 0, 0]])"
      ]
     },
     "metadata": {},
     "execution_count": 22
    }
   ],
   "source": [
    "tournament_selection(population, fitness)"
   ]
  },
  {
   "cell_type": "code",
   "execution_count": 23,
   "metadata": {},
   "outputs": [
    {
     "output_type": "stream",
     "name": "stdout",
     "text": [
      "743 µs ± 269 µs per loop (mean ± std. dev. of 7 runs, 1000 loops each)\n"
     ]
    }
   ],
   "source": [
    "timeit tournament_selection(population, fitness)"
   ]
  },
  {
   "cell_type": "markdown",
   "metadata": {},
   "source": [
    "## Truncation selection"
   ]
  },
  {
   "cell_type": "code",
   "execution_count": 24,
   "metadata": {},
   "outputs": [],
   "source": [
    "def truncation_selection(pop, fitness, trunc_perc = 60):\n",
    "    \n",
    "    sorted_ind = sorted(range(len(fitness)), key=lambda k: fitness[k], reverse = True)\n",
    "\n",
    "    num = len(pop)*trunc_perc//100\n",
    "\n",
    "    mating_pool = pop[sorted_ind][:num]      \n",
    "\n",
    "    return mating_pool\n"
   ]
  },
  {
   "cell_type": "code",
   "execution_count": 25,
   "metadata": {},
   "outputs": [
    {
     "output_type": "execute_result",
     "data": {
      "text/plain": [
       "array([[0, 0, 1, 0, 1, 1, 1, 1],\n",
       "       [1, 0, 0, 0, 0, 1, 0, 0],\n",
       "       [1, 1, 1, 0, 0, 1, 1, 1],\n",
       "       [1, 1, 1, 1, 0, 0, 0, 1],\n",
       "       [0, 1, 1, 0, 0, 0, 0, 1],\n",
       "       [1, 0, 1, 0, 1, 1, 0, 0]])"
      ]
     },
     "metadata": {},
     "execution_count": 25
    }
   ],
   "source": [
    "truncation_selection(population, fitness)"
   ]
  },
  {
   "cell_type": "code",
   "execution_count": 26,
   "metadata": {},
   "outputs": [
    {
     "output_type": "stream",
     "name": "stdout",
     "text": [
      "32.6 µs ± 8.72 µs per loop (mean ± std. dev. of 7 runs, 10000 loops each)\n"
     ]
    }
   ],
   "source": [
    "timeit truncation_selection(population, fitness)"
   ]
  },
  {
   "cell_type": "code",
   "execution_count": null,
   "metadata": {},
   "outputs": [],
   "source": []
  }
 ],
 "metadata": {
  "kernelspec": {
   "name": "python395jvsc74a57bd038d51dd8e8d25c2b4859ddf5fde4d8615b38902fd48d30a19bf46ddb81d406a6",
   "display_name": "Python 3.9.5 64-bit (windows store)"
  },
  "language_info": {
   "codemirror_mode": {
    "name": "ipython",
    "version": 3
   },
   "file_extension": ".py",
   "mimetype": "text/x-python",
   "name": "python",
   "nbconvert_exporter": "python",
   "pygments_lexer": "ipython3",
   "version": "3.9.5"
  },
  "metadata": {
   "interpreter": {
    "hash": "38d51dd8e8d25c2b4859ddf5fde4d8615b38902fd48d30a19bf46ddb81d406a6"
   }
  }
 },
 "nbformat": 4,
 "nbformat_minor": 2
}