{
 "cells": [
  {
   "cell_type": "code",
   "execution_count": 1,
   "metadata": {},
   "outputs": [],
   "source": [
    "import random\n",
    "import datetime"
   ]
  },
  {
   "source": [
    "## Initial Setting\n",
    "We create our initial list of list in which we store our random sequence of 0 and 1 and the corresponding fitness.\n",
    "We also create a list of numbers that will become our keys (this type of codification can be different according to the implementation we consider)."
   ],
   "cell_type": "markdown",
   "metadata": {}
  },
  {
   "cell_type": "code",
   "execution_count": 2,
   "metadata": {},
   "outputs": [],
   "source": [
    "variability = 255\n",
    "n_pop = 10\n",
    "fitness = []\n",
    "population = []\n",
    "for i in range(n_pop):\n",
    "    fitness.append(random.randint(0,1000))\n",
    "    population.append([int(x) for x in '{:08b}'.format(random.randint(0,variability))])\n"
   ]
  },
  {
   "source": [
    "If we want to use individuals as keys, we should the following initialization, with tuples, and, of course, adjust the selection methods. Moreover, when defining the pop_dict, we should take care about repetiotions. Here below, an example of how doing it:"
   ],
   "cell_type": "markdown",
   "metadata": {}
  },
  {
   "cell_type": "code",
   "execution_count": null,
   "metadata": {},
   "outputs": [],
   "source": [
    "# variability = 255\n",
    "# n_pop = 10\n",
    "# fitness = []\n",
    "# population = []\n",
    "# for i in range(n_pop):\n",
    "#     fitness.append(random.randint(0,1000))\n",
    "#     population.append(tuple([int(x) for x in '{:08b}'.format(random.randint(0,variability))]))\n",
    "\n",
    "# for j in range(n_pop):\n",
    "#     if population[j] not in pop_dict.keys():\n",
    "#         pop_dict[population[j]] = fitness[j]\n",
    "#     else:\n",
    "#         pop_dict[population[j]] += fitness[j]\n",
    "\n",
    "# pop_dict"
   ]
  },
  {
   "cell_type": "markdown",
   "metadata": {},
   "source": [
    "## Fitness proportionate selection (or Roulette wheel selection)"
   ]
  },
  {
   "cell_type": "code",
   "execution_count": 3,
   "metadata": {},
   "outputs": [
    {
     "output_type": "execute_result",
     "data": {
      "text/plain": [
       "[[1, 1, 1, 0, 0, 0, 1, 0],\n",
       " [1, 0, 0, 1, 0, 0, 0, 0],\n",
       " [0, 1, 0, 1, 0, 0, 0, 1],\n",
       " [0, 1, 0, 0, 1, 1, 1, 1],\n",
       " [1, 0, 0, 1, 0, 0, 0, 0],\n",
       " [1, 1, 0, 0, 0, 1, 0, 1],\n",
       " [1, 1, 0, 0, 0, 1, 0, 1],\n",
       " [0, 1, 0, 1, 0, 0, 0, 1],\n",
       " [0, 1, 0, 1, 0, 0, 0, 1],\n",
       " [1, 0, 1, 1, 1, 1, 1, 0]]"
      ]
     },
     "metadata": {},
     "execution_count": 3
    }
   ],
   "source": [
    "def fit_prop_selection(pop, fitness):\n",
    "    \n",
    "    fitness = [fit/sum(fitness) for fit in fitness]\n",
    "    \n",
    "    fit_prop_dict = {j : [pop[j],fitness[j]] for j in range(len(fitness))}\n",
    "    #calculate fit/sumfit for every element\n",
    "    \n",
    "    # Draw new population\n",
    "    mating_pool = []\n",
    "    for key in fit_prop_dict:\n",
    "        arrow = 0\n",
    "        r = random.uniform(0, 1)\n",
    "        for key in fit_prop_dict:\n",
    "            arrow += fit_prop_dict[key][1] \n",
    "            if arrow > r:\n",
    "                mating_pool.append(fit_prop_dict[key][0])\n",
    "                break\n",
    "            \n",
    "    return mating_pool\n",
    "fit_prop_selection(population, fitness)"
   ]
  },
  {
   "cell_type": "code",
   "execution_count": 4,
   "metadata": {},
   "outputs": [
    {
     "output_type": "execute_result",
     "data": {
      "text/plain": [
       "[[1, 0, 0, 1, 0, 0, 0, 0],\n",
       " [1, 1, 0, 0, 1, 0, 1, 0],\n",
       " [1, 1, 1, 0, 0, 0, 1, 0],\n",
       " [0, 1, 0, 1, 0, 0, 0, 1],\n",
       " [0, 0, 0, 1, 0, 1, 0, 1],\n",
       " [0, 1, 0, 1, 0, 0, 0, 1],\n",
       " [1, 1, 1, 1, 0, 0, 1, 0],\n",
       " [0, 1, 0, 1, 0, 0, 0, 1],\n",
       " [1, 1, 0, 0, 1, 0, 1, 0],\n",
       " [1, 1, 1, 0, 0, 0, 1, 0]]"
      ]
     },
     "metadata": {},
     "execution_count": 4
    }
   ],
   "source": [
    "fit_prop_selection(population, fitness)"
   ]
  },
  {
   "cell_type": "code",
   "execution_count": 5,
   "metadata": {},
   "outputs": [
    {
     "output_type": "stream",
     "name": "stdout",
     "text": [
      "39.3 µs ± 6.2 µs per loop (mean ± std. dev. of 7 runs, 10000 loops each)\n"
     ]
    }
   ],
   "source": [
    "timeit fit_prop_selection(population, fitness)"
   ]
  },
  {
   "source": [
    "## Linear Rank selection"
   ],
   "cell_type": "markdown",
   "metadata": {}
  },
  {
   "cell_type": "code",
   "execution_count": 6,
   "metadata": {},
   "outputs": [],
   "source": [
    "def lin_rank_selection(pop, fitness):\n",
    "    n = len(pop)\n",
    "    sorted_ind = sorted(range(len(fitness)), key=lambda k: fitness[k])\n",
    "    fitness_rank = [2*pos/(n*(n+1)) for pos in range(1,len(fitness)+1)]\n",
    "    \n",
    "    linear_rank_dict = {j : [population[sorted_ind[j]],fitness_rank[j]] for j in range(len(fitness))}\n",
    "\n",
    "    # Draw new population\n",
    "    mating_pool = []\n",
    "    for key in linear_rank_dict:\n",
    "        arrow = 0\n",
    "        r = random.uniform(0, 1)\n",
    "        for key in linear_rank_dict:\n",
    "            arrow += linear_rank_dict[key][1] \n",
    "            if arrow > r:\n",
    "                mating_pool.append(linear_rank_dict[key][0])\n",
    "                break\n",
    "            \n",
    "    return mating_pool"
   ]
  },
  {
   "cell_type": "code",
   "execution_count": 7,
   "metadata": {},
   "outputs": [
    {
     "output_type": "execute_result",
     "data": {
      "text/plain": [
       "[[1, 0, 1, 1, 1, 1, 1, 0],\n",
       " [0, 0, 0, 1, 1, 0, 0, 1],\n",
       " [1, 0, 0, 1, 0, 0, 0, 0],\n",
       " [1, 0, 1, 1, 1, 1, 1, 0],\n",
       " [0, 1, 0, 0, 1, 1, 1, 1],\n",
       " [0, 1, 0, 1, 0, 0, 0, 1],\n",
       " [1, 1, 0, 0, 1, 0, 1, 0],\n",
       " [1, 1, 0, 0, 0, 1, 0, 1],\n",
       " [1, 1, 0, 0, 0, 1, 0, 1],\n",
       " [1, 1, 0, 0, 0, 1, 0, 1]]"
      ]
     },
     "metadata": {},
     "execution_count": 7
    }
   ],
   "source": [
    "lin_rank_selection(population, fitness)"
   ]
  },
  {
   "cell_type": "code",
   "execution_count": 8,
   "metadata": {},
   "outputs": [
    {
     "output_type": "stream",
     "name": "stdout",
     "text": [
      "38.4 µs ± 3.65 µs per loop (mean ± std. dev. of 7 runs, 10000 loops each)\n"
     ]
    }
   ],
   "source": [
    "timeit lin_rank_selection(population, fitness)"
   ]
  },
  {
   "source": [
    "## Tournament selection"
   ],
   "cell_type": "markdown",
   "metadata": {}
  },
  {
   "cell_type": "code",
   "execution_count": 9,
   "metadata": {},
   "outputs": [],
   "source": [
    "def tournament_selection(pop, fitness, k=3):\n",
    "    n_pop = len(pop)\n",
    "    mating_pool = []\n",
    "    pop_dict = {i : [pop[i], fitness[i]] for i in range(n_pop)}\n",
    "    \n",
    "    for i in range(len(fitness)):\n",
    "        best = random.randint(0, n_pop-1)\n",
    "        for j in range(k):\n",
    "            selected = random.randint(0, n_pop-1)\n",
    "            if pop_dict[selected][1] > pop_dict[best][1]:\n",
    "                    best = selected     \n",
    "        mating_pool.append(pop_dict[best][0])\n",
    "\n",
    "    return mating_pool\n"
   ]
  },
  {
   "cell_type": "code",
   "execution_count": 10,
   "metadata": {},
   "outputs": [
    {
     "output_type": "execute_result",
     "data": {
      "text/plain": [
       "[[1, 1, 0, 0, 0, 1, 0, 1],\n",
       " [1, 1, 0, 0, 1, 0, 1, 0],\n",
       " [1, 0, 1, 1, 1, 1, 1, 0],\n",
       " [1, 1, 0, 0, 1, 0, 1, 0],\n",
       " [1, 1, 0, 0, 0, 1, 0, 1],\n",
       " [1, 0, 0, 1, 0, 0, 0, 0],\n",
       " [1, 1, 0, 0, 1, 0, 1, 0],\n",
       " [0, 1, 0, 1, 0, 0, 0, 1],\n",
       " [1, 1, 0, 0, 1, 0, 1, 0],\n",
       " [0, 1, 0, 1, 0, 0, 0, 1]]"
      ]
     },
     "metadata": {},
     "execution_count": 10
    }
   ],
   "source": [
    "tournament_selection(population, fitness)"
   ]
  },
  {
   "cell_type": "code",
   "execution_count": 11,
   "metadata": {},
   "outputs": [
    {
     "output_type": "stream",
     "name": "stdout",
     "text": [
      "103 µs ± 8.94 µs per loop (mean ± std. dev. of 7 runs, 10000 loops each)\n"
     ]
    }
   ],
   "source": [
    "timeit tournament_selection(population, fitness)"
   ]
  },
  {
   "cell_type": "markdown",
   "metadata": {},
   "source": [
    "## Truncation selection"
   ]
  },
  {
   "cell_type": "code",
   "execution_count": 12,
   "metadata": {
    "scrolled": true
   },
   "outputs": [],
   "source": [
    "def truncation_selection(pop, fitness, trunc_perc = 60):\n",
    "    mating_pool = []\n",
    "    \n",
    "    sorted_pop_dict= sorted({k: [pop[k],fitness[k]] for k in range(len(pop))}.items(), key = lambda kv: kv[1][1], reverse = True)\n",
    "    \n",
    "    for key in range(len(fitness)*trunc_perc//100):\n",
    "        mating_pool.append(sorted_pop_dict[key][1][0]) \n",
    "    return mating_pool\n"
   ]
  },
  {
   "cell_type": "code",
   "execution_count": 13,
   "metadata": {},
   "outputs": [
    {
     "output_type": "execute_result",
     "data": {
      "text/plain": [
       "[[0, 1, 0, 1, 0, 0, 0, 1],\n",
       " [1, 1, 0, 0, 1, 0, 1, 0],\n",
       " [1, 0, 1, 1, 1, 1, 1, 0],\n",
       " [0, 1, 0, 0, 1, 1, 1, 1],\n",
       " [1, 1, 0, 0, 0, 1, 0, 1],\n",
       " [1, 0, 0, 1, 0, 0, 0, 0]]"
      ]
     },
     "metadata": {},
     "execution_count": 13
    }
   ],
   "source": [
    "truncation_selection(population, fitness)"
   ]
  },
  {
   "cell_type": "code",
   "execution_count": 14,
   "metadata": {},
   "outputs": [
    {
     "output_type": "stream",
     "name": "stdout",
     "text": [
      "7.32 µs ± 125 ns per loop (mean ± std. dev. of 7 runs, 100000 loops each)\n"
     ]
    }
   ],
   "source": [
    "timeit truncation_selection(population, fitness)"
   ]
  },
  {
   "cell_type": "code",
   "execution_count": null,
   "metadata": {},
   "outputs": [],
   "source": []
  }
 ],
 "metadata": {
  "kernelspec": {
   "name": "python395jvsc74a57bd038d51dd8e8d25c2b4859ddf5fde4d8615b38902fd48d30a19bf46ddb81d406a6",
   "display_name": "Python 3.9.5 64-bit (windows store)"
  },
  "language_info": {
   "codemirror_mode": {
    "name": "ipython",
    "version": 3
   },
   "file_extension": ".py",
   "mimetype": "text/x-python",
   "name": "python",
   "nbconvert_exporter": "python",
   "pygments_lexer": "ipython3",
   "version": "3.9.5"
  },
  "metadata": {
   "interpreter": {
    "hash": "38d51dd8e8d25c2b4859ddf5fde4d8615b38902fd48d30a19bf46ddb81d406a6"
   }
  }
 },
 "nbformat": 4,
 "nbformat_minor": 4
}