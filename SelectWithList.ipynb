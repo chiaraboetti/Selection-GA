{
 "metadata": {
  "language_info": {
   "codemirror_mode": {
    "name": "ipython",
    "version": 3
   },
   "file_extension": ".py",
   "mimetype": "text/x-python",
   "name": "python",
   "nbconvert_exporter": "python",
   "pygments_lexer": "ipython3",
   "version": "3.9.5"
  },
  "orig_nbformat": 2,
  "kernelspec": {
   "name": "python395jvsc74a57bd038d51dd8e8d25c2b4859ddf5fde4d8615b38902fd48d30a19bf46ddb81d406a6",
   "display_name": "Python 3.9.5 64-bit (windows store)"
  },
  "metadata": {
   "interpreter": {
    "hash": "38d51dd8e8d25c2b4859ddf5fde4d8615b38902fd48d30a19bf46ddb81d406a6"
   }
  }
 },
 "nbformat": 4,
 "nbformat_minor": 2,
 "cells": [
  {
   "cell_type": "code",
   "execution_count": 1,
   "metadata": {},
   "outputs": [],
   "source": [
    "from numpy.random import randint\n",
    "from numpy.random import uniform"
   ]
  },
  {
   "source": [
    "## Initial setting"
   ],
   "cell_type": "markdown",
   "metadata": {}
  },
  {
   "cell_type": "code",
   "execution_count": 2,
   "metadata": {},
   "outputs": [],
   "source": [
    "variability = 255\n",
    "n_pop = 10\n",
    "fitness = []\n",
    "population = []\n",
    "for i in range(n_pop):\n",
    "    fitness.append(randint(0,1000))\n",
    "    population.append([int(x) for x in '{:08b}'.format(randint(0,variability))])"
   ]
  },
  {
   "source": [
    "## Fitness proportional selection"
   ],
   "cell_type": "markdown",
   "metadata": {}
  },
  {
   "cell_type": "code",
   "execution_count": 3,
   "metadata": {},
   "outputs": [],
   "source": [
    "def fit_prop_selection(pop, fitness):\n",
    "    n_pop = len(pop)\n",
    "    prob_fitness = [f/sum(fitness) for f in fitness]\n",
    "    \n",
    "    # Generate probability intervals for each individual\n",
    "    probs = [sum(prob_fitness[:i+1]) for i in range(n_pop)]\n",
    "    \n",
    "    # Draw new population\n",
    "    mating_pool = []\n",
    "    for n in range(n_pop):\n",
    "        r = uniform(0, 1)\n",
    "        for (i, individual) in enumerate(pop):\n",
    "            if probs[i] > r:\n",
    "                mating_pool.append(individual)\n",
    "                break\n",
    "\n",
    "    return mating_pool  "
   ]
  },
  {
   "cell_type": "code",
   "execution_count": 4,
   "metadata": {},
   "outputs": [
    {
     "output_type": "execute_result",
     "data": {
      "text/plain": [
       "[[1, 1, 0, 1, 1, 0, 1, 1],\n",
       " [1, 0, 1, 0, 1, 0, 0, 0],\n",
       " [1, 1, 0, 0, 0, 1, 1, 1],\n",
       " [1, 0, 1, 1, 1, 0, 1, 1],\n",
       " [1, 0, 1, 1, 1, 0, 1, 1],\n",
       " [1, 0, 1, 1, 1, 0, 1, 1],\n",
       " [1, 0, 1, 0, 1, 0, 0, 0],\n",
       " [1, 1, 0, 1, 1, 0, 1, 1],\n",
       " [1, 0, 0, 1, 1, 1, 1, 0],\n",
       " [0, 0, 1, 1, 1, 1, 1, 1]]"
      ]
     },
     "metadata": {},
     "execution_count": 4
    }
   ],
   "source": [
    "fit_prop_selection(population, fitness)"
   ]
  },
  {
   "cell_type": "code",
   "execution_count": 5,
   "metadata": {},
   "outputs": [
    {
     "output_type": "stream",
     "name": "stdout",
     "text": [
      "89.5 µs ± 4.08 µs per loop (mean ± std. dev. of 7 runs, 10000 loops each)\n"
     ]
    }
   ],
   "source": [
    "timeit fit_prop_selection(population, fitness)"
   ]
  },
  {
   "source": [
    "## Linear Rank selection"
   ],
   "cell_type": "markdown",
   "metadata": {}
  },
  {
   "cell_type": "code",
   "execution_count": 17,
   "metadata": {},
   "outputs": [],
   "source": [
    "def lin_rank_selection(pop, fitness):\n",
    "    n = len(pop)\n",
    "    \n",
    "    sorted_ind = sorted(range(n), key=lambda k: fitness[k])\n",
    "    sorted_pop = [pop[sorted_ind[j]] for j in range(n)]\n",
    "    \n",
    "    fitness_rank = [2*pos/(n*(n+1)) for pos in range(1, n+1)] \n",
    "    \n",
    "    # Draw new population\n",
    "    mating_pool = []\n",
    "    for n in range(n_pop):\n",
    "        s = 0\n",
    "        r = uniform(0, 1)\n",
    "        for (i, individual) in enumerate(sorted_pop):\n",
    "            s += fitness_rank[i]\n",
    "            if  s > r:\n",
    "                mating_pool.append(individual)\n",
    "                break\n",
    "\n",
    "    return mating_pool"
   ]
  },
  {
   "cell_type": "code",
   "execution_count": 21,
   "metadata": {},
   "outputs": [
    {
     "output_type": "execute_result",
     "data": {
      "text/plain": [
       "[[1, 1, 1, 1, 1, 0, 0, 0],\n",
       " [1, 0, 0, 1, 0, 1, 1, 1],\n",
       " [1, 1, 1, 0, 1, 1, 0, 1],\n",
       " [1, 0, 1, 0, 1, 1, 0, 1],\n",
       " [0, 0, 1, 1, 1, 1, 0, 1],\n",
       " [0, 0, 1, 1, 1, 0, 1, 1],\n",
       " [1, 1, 1, 1, 0, 0, 0, 0],\n",
       " [1, 1, 1, 1, 0, 0, 0, 0],\n",
       " [0, 0, 1, 1, 1, 0, 1, 1],\n",
       " [0, 0, 1, 1, 1, 1, 0, 1]]"
      ]
     },
     "metadata": {},
     "execution_count": 21
    }
   ],
   "source": [
    "lin_rank_selection(population, fitness)"
   ]
  },
  {
   "cell_type": "code",
   "execution_count": 22,
   "metadata": {},
   "outputs": [
    {
     "output_type": "stream",
     "name": "stdout",
     "text": [
      "92.1 µs ± 6.09 µs per loop (mean ± std. dev. of 7 runs, 10000 loops each)\n"
     ]
    }
   ],
   "source": [
    "timeit lin_rank_selection(population, fitness)"
   ]
  },
  {
   "source": [
    "## Tournament selection"
   ],
   "cell_type": "markdown",
   "metadata": {}
  },
  {
   "cell_type": "code",
   "execution_count": 49,
   "metadata": {},
   "outputs": [],
   "source": [
    "def tournament_selection(pop, fitness, k=3):\n",
    "    n_pop = len(pop)\n",
    "    mating_pool = []\n",
    "\n",
    "    for i in range(n_pop):\n",
    "        best = randint(n_pop)\n",
    "\n",
    "        for j in range(k):\n",
    "            selected = randint(n_pop)\n",
    "            if fitness[selected] > fitness[best]:\n",
    "                    best = selected\n",
    "        \n",
    "        mating_pool.append(pop[best])\n",
    "\n",
    "    return mating_pool"
   ]
  },
  {
   "cell_type": "code",
   "execution_count": 76,
   "metadata": {},
   "outputs": [
    {
     "output_type": "execute_result",
     "data": {
      "text/plain": [
       "[[1, 0, 1, 0, 0, 1, 0, 1],\n",
       " [1, 1, 1, 0, 1, 1, 0, 1],\n",
       " [1, 1, 1, 0, 1, 1, 0, 1],\n",
       " [1, 0, 1, 0, 0, 1, 0, 1],\n",
       " [1, 1, 1, 1, 0, 0, 0, 0],\n",
       " [0, 1, 1, 0, 1, 1, 0, 0],\n",
       " [0, 0, 1, 1, 1, 0, 1, 1],\n",
       " [0, 0, 1, 1, 1, 1, 0, 1],\n",
       " [1, 1, 1, 1, 1, 0, 0, 0],\n",
       " [1, 0, 1, 0, 0, 1, 0, 1]]"
      ]
     },
     "metadata": {},
     "execution_count": 76
    }
   ],
   "source": [
    "tournament_selection(population, fitness)"
   ]
  },
  {
   "cell_type": "code",
   "execution_count": 78,
   "metadata": {},
   "outputs": [
    {
     "output_type": "stream",
     "name": "stdout",
     "text": [
      "326 µs ± 22.7 µs per loop (mean ± std. dev. of 7 runs, 1000 loops each)\n"
     ]
    }
   ],
   "source": [
    "timeit tournament_selection(population, fitness)"
   ]
  },
  {
   "source": [
    "## Truncation selection"
   ],
   "cell_type": "markdown",
   "metadata": {}
  },
  {
   "cell_type": "code",
   "execution_count": 97,
   "metadata": {},
   "outputs": [],
   "source": [
    "def truncation_selection(pop, fitness, trunc_perc = 60):\n",
    "\n",
    "    sorted_ind = sorted(range(len(fitness)), key=lambda k: fitness[k], reverse = True)\n",
    "    # reverse=True <--> the biggest is the first\n",
    "    num = len(pop)*trunc_perc//100\n",
    "    \n",
    "    mating_pool = []\n",
    "    for i in range(num):\n",
    "        mating_pool.append(pop[sorted_ind[i]])\n",
    "\n",
    "    return mating_pool"
   ]
  },
  {
   "cell_type": "code",
   "execution_count": 98,
   "metadata": {},
   "outputs": [
    {
     "output_type": "execute_result",
     "data": {
      "text/plain": [
       "[[1, 1, 1, 1, 1, 0, 0, 0],\n",
       " [1, 0, 1, 0, 0, 1, 0, 1],\n",
       " [0, 0, 1, 1, 1, 0, 1, 1],\n",
       " [1, 1, 1, 0, 1, 1, 0, 1],\n",
       " [0, 0, 1, 1, 1, 1, 0, 1],\n",
       " [1, 1, 1, 1, 0, 0, 0, 0]]"
      ]
     },
     "metadata": {},
     "execution_count": 98
    }
   ],
   "source": [
    "truncation_selection(population, fitness)"
   ]
  },
  {
   "cell_type": "code",
   "execution_count": 99,
   "metadata": {},
   "outputs": [
    {
     "output_type": "stream",
     "name": "stdout",
     "text": [
      "5.1 µs ± 226 ns per loop (mean ± std. dev. of 7 runs, 100000 loops each)\n"
     ]
    }
   ],
   "source": [
    "timeit truncation_selection(population, fitness)"
   ]
  },
  {
   "cell_type": "code",
   "execution_count": null,
   "metadata": {},
   "outputs": [],
   "source": []
  }
 ]
}